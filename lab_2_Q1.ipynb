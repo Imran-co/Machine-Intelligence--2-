{
  "nbformat": 4,
  "nbformat_minor": 0,
  "metadata": {
    "colab": {
      "provenance": [],
      "authorship_tag": "ABX9TyP2od6cjQDVDcbJ/EppSXLo",
      "include_colab_link": true
    },
    "kernelspec": {
      "name": "python3",
      "display_name": "Python 3"
    },
    "language_info": {
      "name": "python"
    }
  },
  "cells": [
    {
      "cell_type": "markdown",
      "metadata": {
        "id": "view-in-github",
        "colab_type": "text"
      },
      "source": [
        "<a href=\"https://colab.research.google.com/github/Imran-co/Machine-Intelligence--2-/blob/main/lab_2_Q1.ipynb\" target=\"_parent\"><img src=\"https://colab.research.google.com/assets/colab-badge.svg\" alt=\"Open In Colab\"/></a>"
      ]
    },
    {
      "cell_type": "markdown",
      "source": [
        "1) Implement a Python function to compute the Expected Value of a discrete\n",
        "random variable given its Probability Mass Function and test the function on the\n",
        "following scenarios:\n",
        "a) Fair six-sided die: X∈{1,2,3,4,5,6} with equal probability P(X=xi)=1/6\n",
        "b) Biased coin flip: X∈{0,1} with probabilities P(X=0)=0.3, P(X=1)=0.7"
      ],
      "metadata": {
        "id": "RPs-IQd615TZ"
      }
    },
    {
      "cell_type": "code",
      "execution_count": 1,
      "metadata": {
        "colab": {
          "base_uri": "https://localhost:8080/"
        },
        "id": "O_1g1sMOwql5",
        "outputId": "d07dc06c-16d8-472c-d856-cbe8da0698b1"
      },
      "outputs": [
        {
          "output_type": "stream",
          "name": "stdout",
          "text": [
            "The expected value of rolling a die is:  3.5\n"
          ]
        }
      ],
      "source": [
        "import numpy as np\n",
        "\n",
        "die_values = [1, 2, 3, 4, 5, 6]\n",
        "die_probabilities = [1/6, 1/6, 1/6, 1/6, 1/6, 1/6]\n",
        "\n",
        "def calculate_expected_value(values, probabilities):\n",
        "    values = np.array(values)\n",
        "    probabilities = np.array(probabilities)\n",
        "\n",
        "    expected_value = np.sum(values * probabilities)\n",
        "    return expected_value\n",
        "\n",
        "expected_value = calculate_expected_value(die_values, die_probabilities)\n",
        "print(f\"The expected value of rolling a die is: \",expected_value)"
      ]
    },
    {
      "cell_type": "code",
      "source": [
        "#coin flip\n",
        "weight_die = [0,1]\n",
        "weighted_prob = [0.3,0.7]\n",
        "\n",
        "def calculate_expected_value(weight_die, weighted_prob):\n",
        "    weight_die = np.array(weight_die)\n",
        "    weighted_prob = np.array(weighted_prob)\n",
        "    expected_value = np.sum(weight_die * weighted_prob)\n",
        "    return expected_value\n",
        "\n",
        "expected_value = calculate_expected_value(weight_die, weighted_prob)\n",
        "print(f\"The expected value of rolling a die is: \",expected_value)"
      ],
      "metadata": {
        "colab": {
          "base_uri": "https://localhost:8080/"
        },
        "id": "6lgaFc1qyPQp",
        "outputId": "61b60de2-fc7e-4959-cc70-c9598a63976b"
      },
      "execution_count": 2,
      "outputs": [
        {
          "output_type": "stream",
          "name": "stdout",
          "text": [
            "The expected value of rolling a die is:  0.7\n"
          ]
        }
      ]
    }
  ]
}