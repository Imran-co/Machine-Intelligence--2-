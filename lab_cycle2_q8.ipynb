{
  "nbformat": 4,
  "nbformat_minor": 0,
  "metadata": {
    "colab": {
      "provenance": [],
      "authorship_tag": "ABX9TyPIsWP6I5hmfx8Bxj04ZqiL",
      "include_colab_link": true
    },
    "kernelspec": {
      "name": "python3",
      "display_name": "Python 3"
    },
    "language_info": {
      "name": "python"
    }
  },
  "cells": [
    {
      "cell_type": "markdown",
      "metadata": {
        "id": "view-in-github",
        "colab_type": "text"
      },
      "source": [
        "<a href=\"https://colab.research.google.com/github/Imran-co/Machine-Intelligence--2-/blob/main/lab_cycle2_q8.ipynb\" target=\"_parent\"><img src=\"https://colab.research.google.com/assets/colab-badge.svg\" alt=\"Open In Colab\"/></a>"
      ]
    },
    {
      "cell_type": "markdown",
      "source": [
        "8) Define an HMM with:\n",
        " 3 hidden states: Rainy, Sunny, Cloudy\n",
        " 3 observations: Walk, Shop, Clean\n",
        " Set values for:\n",
        "o Initial state probabilities\n",
        "o Transition probability matrix\n",
        "o Emission probability matrix\n",
        "\n",
        "Simulate:\n",
        " Generate a sequence of 10 hidden states and corresponding observations using\n",
        "your HMM.\n",
        " Print both the hidden state sequence and observed output."
      ],
      "metadata": {
        "id": "kZxw4CU48VtE"
      }
    },
    {
      "cell_type": "code",
      "execution_count": null,
      "metadata": {
        "colab": {
          "base_uri": "https://localhost:8080/"
        },
        "id": "SRqSJ5Yt-oyn",
        "outputId": "8f505dcf-fed9-43a7-ac58-509c1c8602d5"
      },
      "outputs": [
        {
          "output_type": "stream",
          "name": "stdout",
          "text": [
            "The Hidden Sequence is : [np.str_('Sunny'), np.str_('Rainy'), np.str_('Rainy'), np.str_('Cloudy'), np.str_('Cloudy'), np.str_('Rainy'), np.str_('Cloudy'), np.str_('Sunny'), np.str_('Cloudy'), np.str_('Rainy')]\n",
            "The Observed Sq is  [np.str_('Walk'), np.str_('Clean'), np.str_('Clean'), np.str_('Clean'), np.str_('Shop'), np.str_('Clean'), np.str_('Clean'), np.str_('Walk'), np.str_('Clean'), np.str_('Clean')]\n"
          ]
        }
      ],
      "source": [
        "import numpy as np\n",
        "\n",
        "class HMM:\n",
        "    def __init__(self):\n",
        "        self.states = ['Rainy','Sunny','Cloudy']\n",
        "        self.n_states = len(self.states)\n",
        "\n",
        "        self.observation = ['Walk','Shop','Clean']\n",
        "        self.n_observation = len(self.observation)\n",
        "\n",
        "\n",
        "        self.initial_prob = np.array([0.3, 0.4, 0.3])\n",
        "\n",
        "        self.transistion_prob = np.array([\n",
        "            [0.7, 0.2, 0.1],  # Rainy → [Rainy, Sunny, Cloudy]\n",
        "            [0.3, 0.6, 0.1],   # Sunny → [Rainy, Sunny, Cloudy]\n",
        "            [0.4, 0.3, 0.3]    # Cloudy → [Rainy, Sunny, Cloudy]\n",
        "        ])\n",
        "\n",
        "        self.emission_prob = np.array([\n",
        "            [0.1, 0.4, 0.5],  # Rainy → [Walk, Shop, Clean]\n",
        "            [0.6, 0.3, 0.1],  # Sunny → [Walk, Shop, Clean]\n",
        "            [0.3, 0.4, 0.3]   # Cloudy → [Walk, Shop, Clean]\n",
        "        ])\n",
        "\n",
        "    def gen_seq(self, length=10): -\n",
        "        hidd_seq = []\n",
        "        obs_seq = []\n",
        "\n",
        "        -\n",
        "        curr_state = np.random.choice(self.states, p=self.initial_prob)\n",
        "        hidd_seq.append(curr_state)\n",
        "\n",
        "        obs = np.random.choice(self.observation, p=self.emission_prob[self.states.index(curr_state)]) # Corrected indexing\n",
        "        obs_seq.append(obs)\n",
        "\n",
        "        for _ in range(length - 1):\n",
        "            curr_state = np.random.choice(self.states, p=self.transistion_prob[self.states.index(curr_state)])\n",
        "            hidd_seq.append(curr_state)\n",
        "\n",
        "\n",
        "            obs = np.random.choice(self.observation, p=self.emission_prob[self.states.index(curr_state)])\n",
        "            obs_seq.append(obs)\n",
        "\n",
        "        return hidd_seq, obs_seq\n",
        "\n",
        "\n",
        "Hidden = HMM()\n",
        "\n",
        "hidd_seq, obs_seq = Hidden.gen_seq()\n",
        "\n",
        "print(\"The Hidden Sequence is :\",hidd_seq)\n",
        "print(\"The Observed Sequene  is \",obs_seq)"
      ]
    }
  ]
}