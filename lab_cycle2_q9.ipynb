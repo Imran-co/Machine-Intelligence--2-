{
  "nbformat": 4,
  "nbformat_minor": 0,
  "metadata": {
    "colab": {
      "provenance": [],
      "authorship_tag": "ABX9TyN1AK4KiyJ378iSxiUd0Kkm",
      "include_colab_link": true
    },
    "kernelspec": {
      "name": "python3",
      "display_name": "Python 3"
    },
    "language_info": {
      "name": "python"
    }
  },
  "cells": [
    {
      "cell_type": "markdown",
      "metadata": {
        "id": "view-in-github",
        "colab_type": "text"
      },
      "source": [
        "<a href=\"https://colab.research.google.com/github/Imran-co/Machine-Intelligence--2-/blob/main/lab_cycle2_q9.ipynb\" target=\"_parent\"><img src=\"https://colab.research.google.com/assets/colab-badge.svg\" alt=\"Open In Colab\"/></a>"
      ]
    },
    {
      "cell_type": "markdown",
      "source": [
        "Given a HMM and an observation sequence (e.g., Walk, Shop, Clean):\n",
        "a) Implement the Forward Algorithm to compute the total probability of the\n",
        "observation sequence.\n",
        "b) Compare with a manually computed example for verification.\n"
      ],
      "metadata": {
        "id": "sUAzaF_LBdUo"
      }
    },
    {
      "cell_type": "code",
      "execution_count": 4,
      "metadata": {
        "id": "hUT1WXTF8mRS"
      },
      "outputs": [],
      "source": [
        "import numpy as np\n",
        "\n",
        "def forward_algorithm(obs, states, initial, transition, emission):\n",
        "\n",
        "  obs_dict = {'Walk':0,'Shop':1,'Clean':2}\n",
        "  obs_seq = [obs_dict[o] for o in obs]\n",
        "\n",
        "  obs_seq_len = len(obs_seq)\n",
        "  no_states = len(states)\n",
        "\n",
        "  alpha = np.zeros((obs_seq_len, no_states))\n",
        "\n",
        "  for s in range(no_states):\n",
        "    alpha[0][s] = initial[s] * emission[s][obs_seq[0]]\n",
        "\n",
        "    for t in range(1, obs_seq_len):\n",
        "      for s in range(no_states):\n",
        "        alpha[t][s] = sum(alpha[t-1][prev_s] * transition[prev_s][s] for prev_s in range(no_states)) * emission[s][obs_seq[t]]\n",
        "\n",
        "    total_prob = sum(alpha[-1])\n",
        "\n",
        "    return total_prob, alpha\n",
        "\n",
        "    states = ['Rainy', 'Sunny']\n",
        "    observations = ['Walk', 'Shop', 'Clean']\n",
        "    start_probability = [0.6, 0.4]  # P(Rainy), P(Sunny)\n",
        "    transition_probability = [\n",
        "        [0.7, 0.3],  # P(Rainy -> Rainy), P(Rainy -> Sunny)\n",
        "        [0.4, 0.6]   # P(Sunny -> Rainy), P(Sunny -> Sunny)\n",
        "    ]\n",
        "    emission_probability = [\n",
        "        [0.1, 0.4, 0.5],  # P(Walk|Rainy), P(Shop|Rainy), P(Clean|Rainy)\n",
        "        [0.6, 0.3, 0.1]   # P(Walk|Sunny), P(Shop|Sunny), P(Clean|Sunny)\n",
        "    ]\n",
        "\n",
        "    obs_seq = ['Walk', 'Shop', 'Clean']\n",
        "    total_prob, alpha = forward_algorithm(obs_seq, states, start_probability, transition_probability, emission_probability)\n",
        "    print(\"Total Probability:\", total_prob)\n",
        "    print(\"Alpha Table:\")\n",
        "    print(alpha)"
      ]
    },
    {
      "cell_type": "code",
      "source": [],
      "metadata": {
        "id": "3Kt05eM_S6hk"
      },
      "execution_count": null,
      "outputs": []
    },
    {
      "cell_type": "code",
      "metadata": {
        "colab": {
          "base_uri": "https://localhost:8080/"
        },
        "id": "3dbdeaab",
        "outputId": "ba561e09-feb8-4cfb-8111-7da9824470b1"
      },
      "source": [
        "import numpy as np\n",
        "\n",
        "def forward_algorithm(obs, states, initial, transition, emission):\n",
        "\n",
        "  obs_dict = {'Walk':0,'Shop':1,'Clean':2}\n",
        "  obs_seq = [obs_dict[o] for o in obs]\n",
        "\n",
        "  obs_seq_len = len(obs_seq)\n",
        "  no_states = len(states)\n",
        "\n",
        "  alpha = np.zeros((obs_seq_len, no_states))\n",
        "\n",
        "  for s in range(no_states):\n",
        "    alpha[0][s] = initial[s] * emission[s][obs_seq[0]]\n",
        "\n",
        "  for t in range(1, obs_seq_len):\n",
        "    for s in range(no_states):\n",
        "      alpha[t][s] = sum(alpha[t-1][prev_s] * transition[prev_s][s] for prev_s in range(no_states)) * emission[s][obs_seq[t]]\n",
        "\n",
        "  total_prob = sum(alpha[-1])\n",
        "\n",
        "  return total_prob, alpha\n",
        "\n",
        "states = ['Rainy', 'Sunny']\n",
        "observations = ['Walk', 'Shop', 'Clean']\n",
        "start_probability = [0.6, 0.4]  # P(Rainy), P(Sunny)\n",
        "transition_probability = [\n",
        "    [0.7, 0.3],  # P(Rainy -> Rainy), P(Rainy -> Sunny)\n",
        "    [0.4, 0.6]   # P(Sunny -> Rainy), P(Sunny -> Sunny)\n",
        "]\n",
        "emission_probability = [\n",
        "    [0.1, 0.4, 0.5],  # P(Walk|Rainy), P(Shop|Rainy), P(Clean|Rainy)\n",
        "    [0.6, 0.3, 0.1]   # P(Walk|Sunny), P(Shop|Sunny), P(Clean|Sunny)\n",
        "]\n",
        "\n",
        "obs_seq = ['Walk', 'Shop', 'Clean']\n",
        "total_prob, alpha = forward_algorithm(obs_seq, states, start_probability, transition_probability, emission_probability)\n",
        "print(\"Total Probability:\", total_prob)\n",
        "print(\"Alpha Table:\")\n",
        "print(alpha)"
      ],
      "execution_count": 2,
      "outputs": [
        {
          "output_type": "stream",
          "name": "stdout",
          "text": [
            "Total Probability: 0.033612\n",
            "Alpha Table:\n",
            "[[0.06     0.24    ]\n",
            " [0.0552   0.0486  ]\n",
            " [0.02904  0.004572]]\n"
          ]
        }
      ]
    }
  ]
}