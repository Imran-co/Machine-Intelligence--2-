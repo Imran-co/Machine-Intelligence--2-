{
  "nbformat": 4,
  "nbformat_minor": 0,
  "metadata": {
    "colab": {
      "provenance": [],
      "authorship_tag": "ABX9TyOjnEn7ZVZf+/+RuDmARNhb",
      "include_colab_link": true
    },
    "kernelspec": {
      "name": "python3",
      "display_name": "Python 3"
    },
    "language_info": {
      "name": "python"
    }
  },
  "cells": [
    {
      "cell_type": "markdown",
      "metadata": {
        "id": "view-in-github",
        "colab_type": "text"
      },
      "source": [
        "<a href=\"https://colab.research.google.com/github/Imran-co/Machine-Intelligence--2-/blob/main/lab_cycle2_q10.ipynb\" target=\"_parent\"><img src=\"https://colab.research.google.com/assets/colab-badge.svg\" alt=\"Open In Colab\"/></a>"
      ]
    },
    {
      "cell_type": "markdown",
      "source": [
        "10. Decode Hidden States using Viterbi Algorithm. Assume values for Initial state\n",
        "probabilities, Transition probability matrix and Emission probability matrix.\n",
        "o Given an observation sequence, compute the most likely hidden state\n",
        "sequence.\n",
        "o Print the path and its probability.\n"
      ],
      "metadata": {
        "id": "UmzcRj-_JcJN"
      }
    },
    {
      "cell_type": "code",
      "execution_count": 5,
      "metadata": {
        "colab": {
          "base_uri": "https://localhost:8080/"
        },
        "id": "2osfDNzZGsZM",
        "outputId": "76cbcf87-36ff-4992-8b37-1f1511a7052e"
      },
      "outputs": [
        {
          "output_type": "stream",
          "name": "stdout",
          "text": [
            "Most Probable Path: ['Sunny', 'Rainy', 'Rainy']\n",
            "Probability: 0.01344\n"
          ]
        }
      ],
      "source": [
        "import numpy as np\n",
        "\n",
        "def viterbi(obs, states, initial, transition, emission):\n",
        "  V = [{}]\n",
        "  path = {}\n",
        "\n",
        "  for s in states:\n",
        "    V[0][s] = initial[s]*emission[s][obs[0]]\n",
        "    path[s] = [s]\n",
        "\n",
        "\n",
        "  for t in range(1, len(obs)):\n",
        "    V.append({})\n",
        "    new_path = {}\n",
        "\n",
        "    for present in states:\n",
        "      (prob, state) = max((V[t-1][prev_s] * transition[prev_s][present] * emission[present][obs[t]], prev_s)\n",
        "                for prev_s in states\n",
        "            )\n",
        "      V[t][present] = prob\n",
        "      new_path[present] = path[state] + [present]\n",
        "\n",
        "    path = new_path\n",
        "\n",
        "  (prob, state) = max((V[len(obs)-1][s], s) for s in states)\n",
        "  return (prob, path[state])\n",
        "\n",
        "states = ['Rainy', 'Sunny']\n",
        "observations = ['Walk', 'Shop', 'Clean']\n",
        "start_prob = {'Rainy': 0.6, 'Sunny': 0.4}\n",
        "trans_prob = {\n",
        "    'Rainy': {'Rainy': 0.7, 'Sunny': 0.3},\n",
        "    'Sunny': {'Rainy': 0.4, 'Sunny': 0.6}\n",
        "}\n",
        "emit_prob = {\n",
        "    'Rainy': {'Walk': 0.1, 'Shop': 0.4, 'Clean': 0.5},\n",
        "    'Sunny': {'Walk': 0.6, 'Shop': 0.3, 'Clean': 0.1}\n",
        "}\n",
        "\n",
        "obs_seq = ['Walk', 'Shop', 'Clean']\n",
        "prob, path = viterbi(obs_seq, states, start_prob, trans_prob, emit_prob)\n",
        "\n",
        "print(\"Most Probable Path:\", path)\n",
        "print(\"Probability:\", prob)"
      ]
    },
    {
      "cell_type": "code",
      "source": [],
      "metadata": {
        "id": "F35Eh8uUG6Zd"
      },
      "execution_count": null,
      "outputs": []
    }
  ]
}