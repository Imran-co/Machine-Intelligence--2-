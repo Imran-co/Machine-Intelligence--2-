{
  "nbformat": 4,
  "nbformat_minor": 0,
  "metadata": {
    "colab": {
      "provenance": [],
      "authorship_tag": "ABX9TyOo5JLo7hGiF/k9iGMYxieH",
      "include_colab_link": true
    },
    "kernelspec": {
      "name": "python3",
      "display_name": "Python 3"
    },
    "language_info": {
      "name": "python"
    }
  },
  "cells": [
    {
      "cell_type": "markdown",
      "metadata": {
        "id": "view-in-github",
        "colab_type": "text"
      },
      "source": [
        "<a href=\"https://colab.research.google.com/github/Imran-co/Machine-Intelligence--2-/blob/main/Lab2_Cycle_2.ipynb\" target=\"_parent\"><img src=\"https://colab.research.google.com/assets/colab-badge.svg\" alt=\"Open In Colab\"/></a>"
      ]
    },
    {
      "cell_type": "markdown",
      "source": [
        "2) Implement a python function to compute the conditional probability of random\n",
        "variables X and Y occurring simultaneously. Consider the case of a fair and an\n",
        "unfair dice tossed simultaneously. Compute Py/x(Y/X) for all values of X."
      ],
      "metadata": {
        "id": "fRsbfDRpcPTK"
      }
    },
    {
      "cell_type": "code",
      "execution_count": null,
      "metadata": {
        "id": "iofL-r1jeiot",
        "colab": {
          "base_uri": "https://localhost:8080/"
        },
        "outputId": "cffcab7b-9e49-488b-af23-68aba8e7762c"
      },
      "outputs": [
        {
          "output_type": "stream",
          "name": "stdout",
          "text": [
            "Computing P(Y|X) for all values of X:\n",
            "\n",
            "For X = 1 (Fair Die Outcome):\n",
            "  P(Y=1 | X=1) = 0.100\n",
            "  P(Y=2 | X=1) = 0.100\n",
            "  P(Y=3 | X=1) = 0.200\n",
            "  P(Y=4 | X=1) = 0.300\n",
            "  P(Y=5 | X=1) = 0.200\n",
            "  P(Y=6 | X=1) = 0.200\n",
            "\n",
            "For X = 2 (Fair Die Outcome):\n",
            "  P(Y=1 | X=2) = 0.100\n",
            "  P(Y=2 | X=2) = 0.100\n",
            "  P(Y=3 | X=2) = 0.200\n",
            "  P(Y=4 | X=2) = 0.300\n",
            "  P(Y=5 | X=2) = 0.200\n",
            "  P(Y=6 | X=2) = 0.200\n",
            "\n",
            "For X = 3 (Fair Die Outcome):\n",
            "  P(Y=1 | X=3) = 0.100\n",
            "  P(Y=2 | X=3) = 0.100\n",
            "  P(Y=3 | X=3) = 0.200\n",
            "  P(Y=4 | X=3) = 0.300\n",
            "  P(Y=5 | X=3) = 0.200\n",
            "  P(Y=6 | X=3) = 0.200\n",
            "\n",
            "For X = 4 (Fair Die Outcome):\n",
            "  P(Y=1 | X=4) = 0.100\n",
            "  P(Y=2 | X=4) = 0.100\n",
            "  P(Y=3 | X=4) = 0.200\n",
            "  P(Y=4 | X=4) = 0.300\n",
            "  P(Y=5 | X=4) = 0.200\n",
            "  P(Y=6 | X=4) = 0.200\n",
            "\n",
            "For X = 5 (Fair Die Outcome):\n",
            "  P(Y=1 | X=5) = 0.100\n",
            "  P(Y=2 | X=5) = 0.100\n",
            "  P(Y=3 | X=5) = 0.200\n",
            "  P(Y=4 | X=5) = 0.300\n",
            "  P(Y=5 | X=5) = 0.200\n",
            "  P(Y=6 | X=5) = 0.200\n",
            "\n",
            "For X = 6 (Fair Die Outcome):\n",
            "  P(Y=1 | X=6) = 0.100\n",
            "  P(Y=2 | X=6) = 0.100\n",
            "  P(Y=3 | X=6) = 0.200\n",
            "  P(Y=4 | X=6) = 0.300\n",
            "  P(Y=5 | X=6) = 0.200\n",
            "  P(Y=6 | X=6) = 0.200\n"
          ]
        }
      ],
      "source": [
        "from IPython import get_ipython\n",
        "from IPython.display import display\n",
        "\n",
        "def conditional_probabilty(fair_die, unfair_die):\n",
        "  proab = 1/6\n",
        "\n",
        "  if fair_die not in range(1, 7):\n",
        "    raise ValueError(\"Fair die outcome must be an integer between 1 and 6.\")\n",
        "\n",
        "  conditional_proab = {}\n",
        "\n",
        "  for y_output, p_y in unfair_die.items():\n",
        "    p_x_and_y = proab * p_y\n",
        "    p_y_given_x = p_x_and_y / proab\n",
        "    conditional_proab[y_output] = p_y_given_x\n",
        "\n",
        "  return conditional_proab\n",
        "\n",
        "unfair_die = {\n",
        "      1: 0.1,\n",
        "      2: 0.1,\n",
        "      3: 0.2,\n",
        "      4: 0.3,\n",
        "      5: 0.2,\n",
        "      6: 0.2\n",
        "}\n",
        "\n",
        "print(\"Computing P(Y|X) for all values of X:\")\n",
        "for x_val in range(1, 7):\n",
        "  print(f\"\\nFor X = {x_val} (Fair Die Outcome):\")\n",
        "  py_given_x = conditional_probabilty(x_val, unfair_die)\n",
        "  for y_val, prob in py_given_x.items():\n",
        "    print(f\"  P(Y={y_val} | X={x_val}) = {prob:.3f}\")\n",
        "\n",
        "print(\"Computing P(Y|X) for all values of X: \")\n",
        "for x_val in range(1, 7):\n",
        "    print(f\"\\nFor X = {y_val} (Fair Die Outcome):\")\n",
        "    py_given_x = conditional_probabilty(x_val, unfair_die)\n",
        "  for y_val, prob in py_given_x.items():\n",
        "    print(f\"  P(Y={y_val} | X={x_val}) = {prob:.3f}\")\n"
      ]
    },
    {
      "cell_type": "code",
      "source": [
        "print(\"Computing P(Y|X) for all values of X: \")\n",
        "for x_val in range(1, 7):\n",
        "    print(f\"\\nFor X = {y_val} (UnFair Die Outcome):\")\n",
        "    py_given_x = conditional_probabilty(x_val, unfair_die)\n",
        "    for y_val, prob in py_given_x.items():\n",
        "      print(f\"  P(Y={x_val} | X={y_val}) = {prob:.3f}\")\n"
      ],
      "metadata": {
        "id": "3RmXwwQSmCK_",
        "colab": {
          "base_uri": "https://localhost:8080/"
        },
        "outputId": "000f6b2f-7899-4f88-a455-d7bebc7a203f"
      },
      "execution_count": null,
      "outputs": [
        {
          "output_type": "stream",
          "name": "stdout",
          "text": [
            "Computing P(Y|X) for all values of X: \n",
            "\n",
            "For X = 6 (UnFair Die Outcome):\n",
            "  P(Y=1 | X=1) = 0.100\n",
            "  P(Y=1 | X=2) = 0.100\n",
            "  P(Y=1 | X=3) = 0.200\n",
            "  P(Y=1 | X=4) = 0.300\n",
            "  P(Y=1 | X=5) = 0.200\n",
            "  P(Y=1 | X=6) = 0.200\n",
            "\n",
            "For X = 6 (UnFair Die Outcome):\n",
            "  P(Y=2 | X=1) = 0.100\n",
            "  P(Y=2 | X=2) = 0.100\n",
            "  P(Y=2 | X=3) = 0.200\n",
            "  P(Y=2 | X=4) = 0.300\n",
            "  P(Y=2 | X=5) = 0.200\n",
            "  P(Y=2 | X=6) = 0.200\n",
            "\n",
            "For X = 6 (UnFair Die Outcome):\n",
            "  P(Y=3 | X=1) = 0.100\n",
            "  P(Y=3 | X=2) = 0.100\n",
            "  P(Y=3 | X=3) = 0.200\n",
            "  P(Y=3 | X=4) = 0.300\n",
            "  P(Y=3 | X=5) = 0.200\n",
            "  P(Y=3 | X=6) = 0.200\n",
            "\n",
            "For X = 6 (UnFair Die Outcome):\n",
            "  P(Y=4 | X=1) = 0.100\n",
            "  P(Y=4 | X=2) = 0.100\n",
            "  P(Y=4 | X=3) = 0.200\n",
            "  P(Y=4 | X=4) = 0.300\n",
            "  P(Y=4 | X=5) = 0.200\n",
            "  P(Y=4 | X=6) = 0.200\n",
            "\n",
            "For X = 6 (UnFair Die Outcome):\n",
            "  P(Y=5 | X=1) = 0.100\n",
            "  P(Y=5 | X=2) = 0.100\n",
            "  P(Y=5 | X=3) = 0.200\n",
            "  P(Y=5 | X=4) = 0.300\n",
            "  P(Y=5 | X=5) = 0.200\n",
            "  P(Y=5 | X=6) = 0.200\n",
            "\n",
            "For X = 6 (UnFair Die Outcome):\n",
            "  P(Y=6 | X=1) = 0.100\n",
            "  P(Y=6 | X=2) = 0.100\n",
            "  P(Y=6 | X=3) = 0.200\n",
            "  P(Y=6 | X=4) = 0.300\n",
            "  P(Y=6 | X=5) = 0.200\n",
            "  P(Y=6 | X=6) = 0.200\n"
          ]
        }
      ]
    }
  ]
}